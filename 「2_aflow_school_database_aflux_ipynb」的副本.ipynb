{
  "nbformat": 4,
  "nbformat_minor": 0,
  "metadata": {
    "kernelspec": {
      "display_name": "Python 3",
      "language": "python",
      "name": "python3"
    },
    "language_info": {
      "codemirror_mode": {
        "name": "ipython",
        "version": 3
      },
      "file_extension": ".py",
      "mimetype": "text/x-python",
      "name": "python",
      "nbconvert_exporter": "python",
      "pygments_lexer": "ipython3",
      "version": "3.7.3"
    },
    "colab": {
      "name": "「2_aflow_school_database_aflux.ipynb」的副本",
      "provenance": [],
      "include_colab_link": true
    }
  },
  "cells": [
    {
      "cell_type": "markdown",
      "metadata": {
        "id": "view-in-github",
        "colab_type": "text"
      },
      "source": [
        "<a href=\"https://colab.research.google.com/github/JamesChung821/python/blob/master/%E3%80%8C2_aflow_school_database_aflux_ipynb%E3%80%8D%E7%9A%84%E5%89%AF%E6%9C%AC.ipynb\" target=\"_parent\"><img src=\"https://colab.research.google.com/assets/colab-badge.svg\" alt=\"Open In Colab\"/></a>"
      ]
    },
    {
      "cell_type": "markdown",
      "metadata": {
        "id": "MdoIojHOpStS"
      },
      "source": [
        "# The AFLUX Search API [[1](#References)]"
      ]
    },
    {
      "cell_type": "markdown",
      "metadata": {
        "id": "-9c8B5s2pStX"
      },
      "source": [
        "## Aim"
      ]
    },
    {
      "cell_type": "markdown",
      "metadata": {
        "id": "6c_Uwz1BpStY"
      },
      "source": [
        "Programatically expose the same functionality as our web search\n",
        "\n",
        "![aflux_flowchart](https://drive.google.com/uc?id=1I11Goefm85WOoKf-_anVIKGqGPqYb7R_)"
      ]
    },
    {
      "cell_type": "markdown",
      "metadata": {
        "id": "yr21eEHipStZ"
      },
      "source": [
        "AFLUX enables search functionality through query part of URI\n",
        "\n",
        "![aflux_summons](https://drive.google.com/uc?id=1VLzLzp9mw_GPcwGqDZ7ZHD69R9GKI53T)"
      ]
    },
    {
      "cell_type": "markdown",
      "metadata": {
        "id": "MRCk-XHUpSta"
      },
      "source": [
        "## Matchbook\n",
        "\n",
        "* Materials keywords with arguments\n",
        "* Keyword list is available from the help directive: http://aflow.org/API/aflux/?help(properties)"
      ]
    },
    {
      "cell_type": "code",
      "metadata": {
        "id": "uXSY_RDapSta"
      },
      "source": [
        "import json\n",
        "from urllib.request import urlopen\n",
        "API = 'http://aflow.org/API/aflux/'\n",
        "REQUEST = API + '?help(properties),format(json)'\n",
        "print(REQUEST)\n",
        "response = json.loads(urlopen(REQUEST).read().decode('UTF-8'))\n",
        "print(json.dumps(response, indent=4))"
      ],
      "execution_count": null,
      "outputs": []
    },
    {
      "cell_type": "markdown",
      "metadata": {
        "id": "eKQRt5ompSte"
      },
      "source": [
        "## Directive\n",
        "\n",
        "* Formatting instructions with arguments\n",
        "* Available directives:\n",
        "  * `help`: displays README and property descriptors\n",
        "  * `format`: json (default) or html\n",
        "  * `paging`: Controls number of entries and page displayed"
      ]
    },
    {
      "cell_type": "markdown",
      "metadata": {
        "id": "BJCm-VZ6pSte"
      },
      "source": [
        "## AFLUX Operators"
      ]
    },
    {
      "cell_type": "markdown",
      "metadata": {
        "id": "NTn-zlUMpStg"
      },
      "source": [
        "* AFLUX supports use of several logical operators\n",
        "* Operator scope can be inter-property and/or intra-property\n",
        "\n",
        "| Operator | Syntax | Operator scope |\n",
        ":---:|:---:|:---:\n",
        "\\<block\\> | `(` and `)` | Intra and inter |\n",
        "\\<AND\\> | `,` | Intra and inter |\n",
        "\\<OR\\> | `:` | Intra and inter |\n",
        "\\<NOT\\> | `!` | Intra |\n",
        "\\<loose\\> | `*` | Intra |\n",
        "\\<string\\> | `'` | Inter | \n",
        "\\<mute\\> | `$` | Intra |"
      ]
    },
    {
      "cell_type": "markdown",
      "metadata": {
        "id": "p1IwzBLRpSth"
      },
      "source": [
        "## Important Properties"
      ]
    },
    {
      "cell_type": "markdown",
      "metadata": {
        "id": "QMcEwXtWpSti"
      },
      "source": [
        "| Property | Description |\n",
        ":---:|:---:\n",
        "`species` | Elements in the material |\n",
        "`nspecies` | Number of species/elements in the material |\n",
        "`catalog` | Catalog of the entry (e.g. `ICSD`) |\n",
        "`Egap` | Band gap |\n",
        "`spin_atom` | Total spin per atom |"
      ]
    },
    {
      "cell_type": "markdown",
      "metadata": {
        "id": "ARhF3qxLpStj"
      },
      "source": [
        "### <block\\>, \\<AND\\>, \\<OR\\>, \\<NOT\\>"
      ]
    },
    {
      "cell_type": "markdown",
      "metadata": {
        "id": "zKDZQ_PSpStj"
      },
      "source": [
        "In the ICSD catalog, search for compounds containing Cr and three species:"
      ]
    },
    {
      "cell_type": "code",
      "metadata": {
        "id": "ElCK78AppStk"
      },
      "source": [
        "import json\n",
        "from urllib.request import urlopen\n",
        "API = 'http://aflow.org/API/aflux/'\n",
        "\n",
        "MATCHBOOK = ''\n",
        "DIRECTIVE = 'paging(1),format(json)'\n",
        "REQUEST = API + '?' + MATCHBOOK + ',' + DIRECTIVE\n",
        "print (\"aflux request: \" + REQUEST)\n",
        "response = json.loads(urlopen(REQUEST).read().decode('UTF-8'))\n",
        "print(json.dumps(response, indent=4))"
      ],
      "execution_count": null,
      "outputs": []
    },
    {
      "cell_type": "markdown",
      "metadata": {
        "id": "5pegx5lfpStm"
      },
      "source": [
        "Exclude oxygen from the results:"
      ]
    },
    {
      "cell_type": "code",
      "metadata": {
        "id": "ai_PApdnpSto"
      },
      "source": [
        "import json\n",
        "from urllib.request import urlopen\n",
        "API = 'http://aflow.org/API/aflux/'\n",
        "\n",
        "MATCHBOOK = ''\n",
        "DIRECTIVE = 'paging(1),format(json)'\n",
        "REQUEST = API + '?' + MATCHBOOK + ',' + DIRECTIVE\n",
        "print (\"aflux request: \" + REQUEST)\n",
        "response = json.loads(urlopen(REQUEST).read().decode('UTF-8'))\n",
        "print(json.dumps(response, indent=4))"
      ],
      "execution_count": null,
      "outputs": []
    },
    {
      "cell_type": "markdown",
      "metadata": {
        "id": "yWd7VYzwpStp"
      },
      "source": [
        "List compounds from the ICSD catalog containing Cr or Mn and three species:"
      ]
    },
    {
      "cell_type": "code",
      "metadata": {
        "id": "TDhryXPSpStp"
      },
      "source": [
        "import json\n",
        "from urllib.request import urlopen\n",
        "API = 'http://aflow.org/API/aflux/'\n",
        "\n",
        "MATCHBOOK = ''\n",
        "DIRECTIVE = 'paging(1),format(json)'\n",
        "REQUEST = API + '?' + MATCHBOOK + ',' + DIRECTIVE\n",
        "print (\"aflux request: \" + REQUEST)\n",
        "response = json.loads(urlopen(REQUEST).read().decode('UTF-8'))\n",
        "print(json.dumps(response, indent=4))"
      ],
      "execution_count": null,
      "outputs": []
    },
    {
      "cell_type": "markdown",
      "metadata": {
        "id": "OQBicpiHpStq"
      },
      "source": [
        "Retrieve compounds from the ICSD catalog with three species containing Cr and Se, or Cr and Te:"
      ]
    },
    {
      "cell_type": "code",
      "metadata": {
        "id": "WbuhY1lCpStq"
      },
      "source": [
        "import json\n",
        "from urllib.request import urlopen\n",
        "API = 'http://aflow.org/API/aflux/'\n",
        "\n",
        "MATCHBOOK = ''\n",
        "DIRECTIVE = 'paging(1),format(json)'\n",
        "REQUEST = API + '?' + MATCHBOOK + ',' + DIRECTIVE\n",
        "print (\"aflux request: \" + REQUEST)\n",
        "response = json.loads(urlopen(REQUEST).read().decode('UTF-8'))\n",
        "print(json.dumps(response, indent=4))"
      ],
      "execution_count": null,
      "outputs": []
    },
    {
      "cell_type": "markdown",
      "metadata": {
        "id": "rt0_mSdDpStq"
      },
      "source": [
        "### \\<loose\\>"
      ]
    },
    {
      "cell_type": "markdown",
      "metadata": {
        "id": "4eKdxl_qpStr"
      },
      "source": [
        "Retrieve the band gap for all quaternary compounds:"
      ]
    },
    {
      "cell_type": "code",
      "metadata": {
        "id": "pSROzyyjpStr"
      },
      "source": [
        "import json\n",
        "from urllib.request import urlopen\n",
        "API = 'http://aflow.org/API/aflux/'\n",
        "\n",
        "MATCHBOOK = ''\n",
        "DIRECTIVE = 'paging(1),format(json)'\n",
        "REQUEST = API + '?' + MATCHBOOK + ',' + DIRECTIVE\n",
        "print (\"aflux request: \" + REQUEST)\n",
        "response = json.loads(urlopen(REQUEST).read().decode('UTF-8'))\n",
        "print(json.dumps(response, indent=4))"
      ],
      "execution_count": null,
      "outputs": []
    },
    {
      "cell_type": "markdown",
      "metadata": {
        "id": "KhjbNpuEpSts"
      },
      "source": [
        "Only show non-null results:"
      ]
    },
    {
      "cell_type": "code",
      "metadata": {
        "id": "vi8vEbnwpStt"
      },
      "source": [
        "import json\n",
        "from urllib.request import urlopen\n",
        "API = 'http://aflow.org/API/aflux/'\n",
        "\n",
        "MATCHBOOK = ''\n",
        "DIRECTIVE = 'paging(1),format(json)'\n",
        "REQUEST = API + '?' + MATCHBOOK + ',' + DIRECTIVE\n",
        "print (\"aflux request: \" + REQUEST)\n",
        "response = json.loads(urlopen(REQUEST).read().decode('UTF-8'))\n",
        "print(json.dumps(response, indent=4))"
      ],
      "execution_count": null,
      "outputs": []
    },
    {
      "cell_type": "markdown",
      "metadata": {
        "id": "4PBgQOGUpStt"
      },
      "source": [
        "Only show results where Egap ≥ 1 eV:"
      ]
    },
    {
      "cell_type": "code",
      "metadata": {
        "id": "Su7LMrg9pStu"
      },
      "source": [
        "import json\n",
        "from urllib.request import urlopen\n",
        "API = 'http://aflow.org/API/aflux/'\n",
        "\n",
        "MATCHBOOK = ''\n",
        "DIRECTIVE = 'paging(1),format(json)'\n",
        "REQUEST = API + '?' + MATCHBOOK + ',' + DIRECTIVE\n",
        "print (\"aflux request: \" + REQUEST)\n",
        "response = json.loads(urlopen(REQUEST).read().decode('UTF-8'))\n",
        "print(json.dumps(response, indent=4))"
      ],
      "execution_count": null,
      "outputs": []
    },
    {
      "cell_type": "markdown",
      "metadata": {
        "id": "VXh9U9vdpStu"
      },
      "source": [
        "Only show results where 3 eV ≥ Egap ≥ 1 eV:"
      ]
    },
    {
      "cell_type": "code",
      "metadata": {
        "id": "ciDJnj7spStu"
      },
      "source": [
        "import json\n",
        "from urllib.request import urlopen\n",
        "API = 'http://aflow.org/API/aflux/'\n",
        "\n",
        "MATCHBOOK = ''\n",
        "DIRECTIVE = 'paging(0),format(json)'\n",
        "REQUEST = API + '?' + MATCHBOOK + ',' + DIRECTIVE\n",
        "print (\"aflux request: \" + REQUEST)\n",
        "response = json.loads(urlopen(REQUEST).read().decode('UTF-8'))\n",
        "print(json.dumps(response, indent=4))"
      ],
      "execution_count": null,
      "outputs": []
    },
    {
      "cell_type": "markdown",
      "metadata": {
        "id": "XnVHF5Y7pStu"
      },
      "source": [
        "### \\<string\\>, \\<mute\\>"
      ]
    },
    {
      "cell_type": "markdown",
      "metadata": {
        "id": "6SE5Nsc6pStv"
      },
      "source": [
        "The string operator can be used to search for strings that contain AFLUX operators:"
      ]
    },
    {
      "cell_type": "code",
      "metadata": {
        "id": "x_kJAbSfpStw"
      },
      "source": [
        "import json\n",
        "from urllib.request import urlopen\n",
        "API = 'http://aflow.org/API/aflux/'\n",
        "\n",
        "MATCHBOOK = \"\"\n",
        "DIRECTIVE = 'paging(1),format(json)'\n",
        "REQUEST = API + '?' + MATCHBOOK + ',' + DIRECTIVE\n",
        "print (\"aflux request: \" + REQUEST)\n",
        "response = json.loads(urlopen(REQUEST).read().decode('UTF-8'))\n",
        "print(json.dumps(response, indent=4))"
      ],
      "execution_count": null,
      "outputs": []
    },
    {
      "cell_type": "markdown",
      "metadata": {
        "id": "ORemQIwTpStx"
      },
      "source": [
        "The mute operator suppresses the output of a property:"
      ]
    },
    {
      "cell_type": "code",
      "metadata": {
        "id": "xWxPP1wqpStx"
      },
      "source": [
        "import json\n",
        "from urllib.request import urlopen\n",
        "API = 'http://aflow.org/API/aflux/'\n",
        "\n",
        "MATCHBOOK = ''\n",
        "DIRECTIVE = 'paging(1),format(json)'\n",
        "REQUEST = API + '?' + MATCHBOOK + ',' + DIRECTIVE\n",
        "print (\"aflux request: \" + REQUEST)\n",
        "response = json.loads(urlopen(REQUEST).read().decode('UTF-8'))\n",
        "print(json.dumps(response, indent=4))"
      ],
      "execution_count": null,
      "outputs": []
    },
    {
      "cell_type": "markdown",
      "metadata": {
        "id": "inHB_nZ3pSty"
      },
      "source": [
        "Default properties can be muted as well:"
      ]
    },
    {
      "cell_type": "code",
      "metadata": {
        "id": "DtC8x5OcpSty"
      },
      "source": [
        "import json\n",
        "from urllib.request import urlopen\n",
        "API = 'http://aflow.org/API/aflux/'\n",
        "\n",
        "MATCHBOOK = ''\n",
        "DIRECTIVE = 'paging(1),format(json)'\n",
        "REQUEST = API + '?' + MATCHBOOK + ',' + DIRECTIVE\n",
        "print (\"aflux request: \" + REQUEST)\n",
        "response = json.loads(urlopen(REQUEST).read().decode('UTF-8'))\n",
        "print(json.dumps(response, indent=4))"
      ],
      "execution_count": null,
      "outputs": []
    },
    {
      "cell_type": "markdown",
      "metadata": {
        "id": "Z9Y59i-ppSty"
      },
      "source": [
        "## Directives"
      ]
    },
    {
      "cell_type": "markdown",
      "metadata": {
        "id": "pmBxvQB9pStz"
      },
      "source": [
        "### The `paging` Directive"
      ]
    },
    {
      "cell_type": "markdown",
      "metadata": {
        "id": "U67Y8tslpSt0"
      },
      "source": [
        "Show <i>n</i><sup>th</sup> results page (default: 64 entries/page):"
      ]
    },
    {
      "cell_type": "code",
      "metadata": {
        "id": "eq1lrrbWpSt0"
      },
      "source": [
        "import json\n",
        "from urllib.request import urlopen\n",
        "API = 'http://aflow.org/API/aflux/'\n",
        "\n",
        "MATCHBOOK = 'Egap(1*,*3),nspecies(4)'\n",
        "DIRECTIVE = 'format(json)'\n",
        "REQUEST = API + '?' + MATCHBOOK + ',' + DIRECTIVE\n",
        "print (\"aflux request: \" + REQUEST)\n",
        "response = json.loads(urlopen(REQUEST).read().decode('UTF-8'))\n",
        "print(json.dumps(response, indent=4))"
      ],
      "execution_count": null,
      "outputs": []
    },
    {
      "cell_type": "markdown",
      "metadata": {
        "id": "EeDcAyw-pSt0"
      },
      "source": [
        "Change page size to <i>m</i> entries per page"
      ]
    },
    {
      "cell_type": "code",
      "metadata": {
        "id": "3I900AHHpSt0"
      },
      "source": [
        "import json\n",
        "from urllib.request import urlopen\n",
        "API = 'http://aflow.org/API/aflux/'\n",
        "\n",
        "MATCHBOOK = 'Egap(1*,*3),nspecies(4)'\n",
        "DIRECTIVE = 'format(json)'\n",
        "REQUEST = API + '?' + MATCHBOOK + ',' + DIRECTIVE\n",
        "print (\"aflux request: \" + REQUEST)\n",
        "response = json.loads(urlopen(REQUEST).read().decode('UTF-8'))\n",
        "print(json.dumps(response, indent=4))"
      ],
      "execution_count": null,
      "outputs": []
    },
    {
      "cell_type": "markdown",
      "metadata": {
        "id": "C1ZLUA_LpSt0"
      },
      "source": [
        "Return results as an array using the \\<mute\\> operator (default):"
      ]
    },
    {
      "cell_type": "code",
      "metadata": {
        "id": "yRt0E7dHpSt1"
      },
      "source": [
        "import json\n",
        "from urllib.request import urlopen\n",
        "API = 'http://aflow.org/API/aflux/'\n",
        "\n",
        "MATCHBOOK = 'Egap(1*,*3),nspecies(4)'\n",
        "DIRECTIVE = 'format(json)'\n",
        "REQUEST = API + '?' + MATCHBOOK + ',' + DIRECTIVE\n",
        "print (\"aflux request: \" + REQUEST)\n",
        "response = json.loads(urlopen(REQUEST).read().decode('UTF-8'))\n",
        "print(json.dumps(response, indent=4))"
      ],
      "execution_count": null,
      "outputs": []
    },
    {
      "cell_type": "markdown",
      "metadata": {
        "id": "X_eZ98zxpSt2"
      },
      "source": [
        "Return all results (<b>careful – may crash the browser!</b>):"
      ]
    },
    {
      "cell_type": "code",
      "metadata": {
        "id": "t0a6nYTupSt2"
      },
      "source": [
        "import json\n",
        "from urllib.request import urlopen\n",
        "API = 'http://aflow.org/API/aflux/'\n",
        "\n",
        "MATCHBOOK = 'Egap(1*,*3),nspecies(4)'\n",
        "DIRECTIVE = 'format(json)'\n",
        "REQUEST = API + '?' + MATCHBOOK + ',' + DIRECTIVE\n",
        "print (\"aflux request: \" + REQUEST)\n",
        "response = json.loads(urlopen(REQUEST).read().decode('UTF-8'))\n",
        "print(json.dumps(response, indent=4))"
      ],
      "execution_count": null,
      "outputs": []
    },
    {
      "cell_type": "markdown",
      "metadata": {
        "id": "agLyL_c7pSt2"
      },
      "source": [
        "## Sorting Results"
      ]
    },
    {
      "cell_type": "markdown",
      "metadata": {
        "id": "_GkSNpj7pSt2"
      },
      "source": [
        "Sort in ascending order:"
      ]
    },
    {
      "cell_type": "code",
      "metadata": {
        "id": "SRLyl5JjpSt3"
      },
      "source": [
        "import json\n",
        "from urllib.request import urlopen\n",
        "API = 'http://aflow.org/API/aflux/'\n",
        "\n",
        "MATCHBOOK = 'Egap(1*,*3),nspecies(4)'\n",
        "DIRECTIVE = 'format(json)'\n",
        "REQUEST = API + '?' + MATCHBOOK + ',' + DIRECTIVE\n",
        "print (\"aflux request: \" + REQUEST)\n",
        "response = json.loads(urlopen(REQUEST).read().decode('UTF-8'))\n",
        "print(json.dumps(response, indent=4))"
      ],
      "execution_count": null,
      "outputs": []
    },
    {
      "cell_type": "markdown",
      "metadata": {
        "id": "yenb0GJ2pSt3"
      },
      "source": [
        "Sort in descending order (also works for <i>n</i> = 0):"
      ]
    },
    {
      "cell_type": "code",
      "metadata": {
        "id": "vclviQR8pSt4"
      },
      "source": [
        "import json\n",
        "from urllib.request import urlopen\n",
        "API = 'http://aflow.org/API/aflux/'\n",
        "\n",
        "MATCHBOOK = 'Egap(1*,*3),nspecies(4)'\n",
        "DIRECTIVE = 'format(json)'\n",
        "REQUEST = API + '?' + MATCHBOOK + ',' + DIRECTIVE\n",
        "print (\"aflux request: \" + REQUEST)\n",
        "response = json.loads(urlopen(REQUEST).read().decode('UTF-8'))\n",
        "print(json.dumps(response, indent=4))"
      ],
      "execution_count": null,
      "outputs": []
    },
    {
      "cell_type": "markdown",
      "metadata": {
        "id": "6q5g5vKIpSt4"
      },
      "source": [
        "Results are always sorted by the first property:"
      ]
    },
    {
      "cell_type": "code",
      "metadata": {
        "id": "mnmGlQUjpSt5"
      },
      "source": [
        "import json\n",
        "from urllib.request import urlopen\n",
        "API = 'http://aflow.org/API/aflux/'\n",
        "\n",
        "MATCHBOOK = 'Egap(1*,*3),spin_atom,nspecies(4)'\n",
        "DIRECTIVE = '$paging(-1),format(json)'\n",
        "REQUEST = API + '?' + MATCHBOOK + ',' + DIRECTIVE\n",
        "print (\"aflux request: \" + REQUEST)\n",
        "response = json.loads(urlopen(REQUEST).read().decode('UTF-8'))\n",
        "print(json.dumps(response, indent=4))"
      ],
      "execution_count": null,
      "outputs": []
    },
    {
      "cell_type": "markdown",
      "metadata": {
        "id": "RlDy_b7_pSt5"
      },
      "source": [
        "Compare with:"
      ]
    },
    {
      "cell_type": "code",
      "metadata": {
        "id": "JELqSR9GpSt5"
      },
      "source": [
        "import json\n",
        "from urllib.request import urlopen\n",
        "API = 'http://aflow.org/API/aflux/'\n",
        "\n",
        "MATCHBOOK = 'spin_atom,Egap(1*,*3),nspecies(4)'\n",
        "DIRECTIVE = 'format(json)'\n",
        "REQUEST = API + '?' + MATCHBOOK + ',' + DIRECTIVE\n",
        "print (\"aflux request: \" + REQUEST)\n",
        "response = json.loads(urlopen(REQUEST).read().decode('UTF-8'))\n",
        "print(json.dumps(response, indent=4))"
      ],
      "execution_count": null,
      "outputs": []
    },
    {
      "cell_type": "markdown",
      "metadata": {
        "id": "AAnzrQY2pSt5"
      },
      "source": [
        "## Aliases"
      ]
    },
    {
      "cell_type": "markdown",
      "metadata": {
        "id": "B4IA_B2TpSt5"
      },
      "source": [
        "**Example: Zincblende**\n",
        "\n",
        "* Formula: _MX_\n",
        "    * _M_: metal\n",
        "    * _X_: chalcogen (O, S, Se, Te)\n",
        "* Space group number: 216\n",
        "* Pearson symbol: cF8"
      ]
    },
    {
      "cell_type": "code",
      "metadata": {
        "scrolled": false,
        "id": "B0E0oHjKpSt6"
      },
      "source": [
        "import json\n",
        "from urllib.request import urlopen\n",
        "API = 'http://aflow.org/API/aflux/'\n",
        "\n",
        "MATCHBOOK = 'spacegroup_relax(216),Pearson_symbol_relax(cF8),nspecies(2)'\n",
        "MATCHBOOK += ',species((O:S:Se:Te),(Li:Be:Na:Mg:Al:K:Ca:Sc:Ti:V:Cr:Mn:Fe:Co:Ni:Cu:Zn:Ga:Rb:Sr:Y:Zr:Nb:Mo:Tc:Ru:Rh:Pd:Ag:Cd:In:Sn:Sb:Cs:Ba:La:Ce:Pr:Nd:Pm:Sm:Eu:Gd:Tb:Dy:Ho:Er:Tm:Yb:Lu:Hf:Ta:W:Re:Os:Ir:Pt:Au:Hg:Tl:Pb:Bi))'\n",
        "DIRECTIVE = 'paging(0),format(json)'\n",
        "REQUEST = API + '?' + MATCHBOOK + ',' + DIRECTIVE\n",
        "print (\"aflux request: \" + REQUEST)\n",
        "response = json.loads(urlopen(REQUEST).read().decode('UTF-8'))\n",
        "print(json.dumps(response, indent=4))"
      ],
      "execution_count": null,
      "outputs": []
    },
    {
      "cell_type": "markdown",
      "metadata": {
        "id": "OAfe5Fn6pSt7"
      },
      "source": [
        "Shorter query with aliases:"
      ]
    },
    {
      "cell_type": "code",
      "metadata": {
        "id": "fE2fRf1npSt7"
      },
      "source": [
        "import json\n",
        "from urllib.request import urlopen\n",
        "API = 'http://aflow.org/API/aflux/'\n",
        "\n",
        "MATCHBOOK = 'spacegroup_relax(216),Pearson_symbol_relax(cF8),nspecies(2)'\n",
        "MATCHBOOK += ',species(Chalcogens,Metals)'\n",
        "DIRECTIVE = 'paging(0),format(json)'\n",
        "REQUEST = API + '?' + MATCHBOOK + ',' + DIRECTIVE\n",
        "print (\"aflux request: \" + REQUEST)\n",
        "response = json.loads(urlopen(REQUEST).read().decode('UTF-8'))\n",
        "print(json.dumps(response, indent=4))"
      ],
      "execution_count": null,
      "outputs": []
    },
    {
      "cell_type": "markdown",
      "metadata": {
        "id": "nVxpYINCpSt7"
      },
      "source": [
        "Supported aliases (case sensitive):\n",
        "\n",
        "| | | | |\n",
        ":---:|:---:|:---:|:---:\n",
        "| Metals | TransitionMetals | BoronGroup | Chalcogens |\n",
        "| AlkaliMetals | Lanthanides | CarbonGroup | Halogens |\n",
        "| AlkaliEarths | OtherMetals | Pnictogens | NonMetals |"
      ]
    },
    {
      "cell_type": "markdown",
      "metadata": {
        "id": "Sz17RHQppSt8"
      },
      "source": [
        "## References\n",
        "\n",
        "[1] F. Rose, C. Toher, E. Gossett, C. Oses, M. Buongiorno Nardelli, M. Fornari, S. Curtarolo, _AFLUX: The LUX materials search API for the AFLOW data repositories_, Comput. Mater. Sci. **137**, 362 - 370 (2017), [doi:10.1016/j.commatsci.2017.04.036](http://doi.org/10.1016/j.commatsci.2017.04.036)"
      ]
    },
    {
      "cell_type": "markdown",
      "metadata": {
        "id": "4Dzn27R5pSt8"
      },
      "source": [
        "## Exercises"
      ]
    },
    {
      "cell_type": "markdown",
      "metadata": {
        "id": "pHYlIm6kpSt8"
      },
      "source": [
        "From the ICSD catalog, find the VRH bulk moduli (`ael_bulk_modulus_vrh`) for materials containing Ti in the AFLOW database. What is the material with the highest bulk modulus? What is the lattice type (`Bravais_lattice_relax`) and space group of this material? Is it a metal or an insulator (`Egap_type`)?"
      ]
    },
    {
      "cell_type": "code",
      "metadata": {
        "id": "s3oaok6cpSt9"
      },
      "source": [
        "import json\n",
        "from urllib.request import urlopen\n",
        "API = 'http://aflow.org/API/aflux/'\n",
        "\n",
        "MATCHBOOK=''\n",
        "DIRECTIVE = ''\n",
        "REQUEST = API + '?' + MATCHBOOK + ',' + DIRECTIVE\n",
        "print (\"aflux request: \" + REQUEST)\n",
        "response = json.loads(urlopen(REQUEST).read().decode('UTF-8'))\n",
        "print(json.dumps(response, indent=4))"
      ],
      "execution_count": null,
      "outputs": []
    },
    {
      "cell_type": "markdown",
      "metadata": {
        "id": "OvoQz1ezpSt9"
      },
      "source": [
        "Determine the bulk moduli of all binary materials in the AFLOW database with a transition metal and a chalcogen and a band gap between 1 eV and 3 eV. For the five compounds with the lowest bulk moduli, list the chemical formulas, space groups, bulk moduli, and band gaps."
      ]
    },
    {
      "cell_type": "code",
      "metadata": {
        "id": "Ecy7OWwZpSt-"
      },
      "source": [
        "import json\n",
        "from urllib.request import urlopen\n",
        "API = 'http://aflow.org/API/aflux/'\n",
        "\n",
        "MATCHBOOK = ''\n",
        "DIRECTIVE = ''\n",
        "REQUEST = API + '?' + MATCHBOOK + ',' + DIRECTIVE\n",
        "print (\"aflux request: \" + REQUEST)\n",
        "response = json.loads(urlopen(REQUEST).read().decode('UTF-8'))\n",
        "print(json.dumps(response, indent=4))"
      ],
      "execution_count": null,
      "outputs": []
    },
    {
      "cell_type": "markdown",
      "metadata": {
        "id": "1KRT7xXIpSt-"
      },
      "source": [
        "Narrow the choice of transition metals down to Fe, Ni, and Co. Determine the five compounds with the largest magnetic moments per atom (`spin_atom`), for which bulk moduli have been calculated. List their chemical formulas, space groups, bulk moduli, and magnetic moments per atom."
      ]
    },
    {
      "cell_type": "code",
      "metadata": {
        "id": "wFVDpgS7pSt-"
      },
      "source": [
        "import json\n",
        "from urllib.request import urlopen\n",
        "API = 'http://aflow.org/API/aflux/'\n",
        "\n",
        "MATCHBOOK = ''\n",
        "DIRECTIVE = ''\n",
        "REQUEST = API + '?' + MATCHBOOK + ',' + DIRECTIVE\n",
        "print (\"aflux request: \" + REQUEST)\n",
        "response = json.loads(urlopen(REQUEST).read().decode('UTF-8'))\n",
        "print(json.dumps(response, indent=4))"
      ],
      "execution_count": null,
      "outputs": []
    }
  ]
}